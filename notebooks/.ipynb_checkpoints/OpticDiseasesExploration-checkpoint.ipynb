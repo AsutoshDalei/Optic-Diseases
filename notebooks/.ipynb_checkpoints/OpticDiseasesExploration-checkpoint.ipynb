{
 "cells": [
  {
   "cell_type": "markdown",
   "id": "d3bf45ac-3a76-4698-b93c-614217eb7ace",
   "metadata": {},
   "source": [
    "# Optic Diseases\n",
    "https://www.kaggle.com/datasets/gunavenkatdoddi/eye-diseases-classification/data"
   ]
  },
  {
   "cell_type": "code",
   "execution_count": 1,
   "id": "4f49be73-d33c-4e5a-82b0-678cc40a06b5",
   "metadata": {},
   "outputs": [],
   "source": [
    "import os\n",
    "import numpy as np\n",
    "import pandas as pd\n",
    "import matplotlib.pyplot as plt\n",
    "%matplotlib inline\n",
    "import seaborn as sns"
   ]
  },
  {
   "cell_type": "markdown",
   "id": "350e249b-75de-4bc9-a2c7-dd97a7ceb243",
   "metadata": {},
   "source": [
    "## Reading Dataset"
   ]
  },
  {
   "cell_type": "code",
   "execution_count": null,
   "id": "0cc3e1ca-08ce-4bae-b1e4-54739dc555fc",
   "metadata": {},
   "outputs": [],
   "source": []
  },
  {
   "cell_type": "code",
   "execution_count": null,
   "id": "52a9f337-52b0-4f1a-8587-bbe874060381",
   "metadata": {},
   "outputs": [],
   "source": []
  },
  {
   "cell_type": "code",
   "execution_count": null,
   "id": "ce8cd5ed-dd20-4825-81fc-32512e3f0ec0",
   "metadata": {},
   "outputs": [],
   "source": []
  },
  {
   "cell_type": "code",
   "execution_count": null,
   "id": "9082a04f-6a05-4fec-866c-130af43087c4",
   "metadata": {},
   "outputs": [],
   "source": []
  },
  {
   "cell_type": "code",
   "execution_count": null,
   "id": "3804da46-d6e7-4745-a33e-8f337afe31b9",
   "metadata": {},
   "outputs": [],
   "source": []
  },
  {
   "cell_type": "code",
   "execution_count": null,
   "id": "6ef2720d-04ec-4428-a055-2dbec0ae6f3d",
   "metadata": {},
   "outputs": [],
   "source": []
  }
 ],
 "metadata": {
  "kernelspec": {
   "display_name": "Python 3 (ipykernel)",
   "language": "python",
   "name": "python3"
  },
  "language_info": {
   "codemirror_mode": {
    "name": "ipython",
    "version": 3
   },
   "file_extension": ".py",
   "mimetype": "text/x-python",
   "name": "python",
   "nbconvert_exporter": "python",
   "pygments_lexer": "ipython3",
   "version": "3.9.19"
  }
 },
 "nbformat": 4,
 "nbformat_minor": 5
}
