{
 "cells": [
  {
   "cell_type": "markdown",
   "id": "d3bf45ac-3a76-4698-b93c-614217eb7ace",
   "metadata": {},
   "source": [
    "# Optic Diseases\n",
    "https://www.kaggle.com/datasets/gunavenkatdoddi/eye-diseases-classification/data"
   ]
  },
  {
   "cell_type": "code",
   "execution_count": 29,
   "id": "4f49be73-d33c-4e5a-82b0-678cc40a06b5",
   "metadata": {},
   "outputs": [
    {
     "data": {
      "application/javascript": [
       "IPython.notebook.set_autosave_interval(30000)"
      ]
     },
     "metadata": {},
     "output_type": "display_data"
    },
    {
     "name": "stdout",
     "output_type": "stream",
     "text": [
      "Autosaving every 30 seconds\n"
     ]
    }
   ],
   "source": [
    "import os\n",
    "import numpy as np\n",
    "import pandas as pd\n",
    "import matplotlib.pyplot as plt\n",
    "%matplotlib inline\n",
    "import seaborn as sns\n",
    "from tqdm import tqdm\n",
    "\n",
    "%autosave 30"
   ]
  },
  {
   "cell_type": "markdown",
   "id": "350e249b-75de-4bc9-a2c7-dd97a7ceb243",
   "metadata": {},
   "source": [
    "## Dataset Exploration\n",
    "* Identification of number of samples for each category\n",
    "* Creation of a unified dataframe, containing paths and respective category"
   ]
  },
  {
   "cell_type": "code",
   "execution_count": 23,
   "id": "0cc3e1ca-08ce-4bae-b1e4-54739dc555fc",
   "metadata": {},
   "outputs": [
    {
     "data": {
      "text/plain": [
       "['cataract', 'diabetic_retinopathy', 'glaucoma', 'normal']"
      ]
     },
     "execution_count": 23,
     "metadata": {},
     "output_type": "execute_result"
    }
   ],
   "source": [
    "dataPath = r\"C:\\Users\\asuto\\Desktop\\Work\\Eye Diseases\\dataset\"\n",
    "os.listdir(dataPath)"
   ]
  },
  {
   "cell_type": "code",
   "execution_count": 32,
   "id": "52a9f337-52b0-4f1a-8587-bbe874060381",
   "metadata": {},
   "outputs": [
    {
     "name": "stdout",
     "output_type": "stream",
     "text": [
      "Number of samples for cataract case: 1038\n",
      "Number of samples for diabetic_retinopathy case: 1098\n",
      "Number of samples for glaucoma case: 1007\n",
      "Number of samples for normal case: 1074\n",
      "Total samples: 4217\n",
      "CPU times: total: 46.9 ms\n",
      "Wall time: 29.3 ms\n"
     ]
    }
   ],
   "source": [
    "%%time\n",
    "total = 0\n",
    "for disease in os.listdir(dataPath):\n",
    "    diseasePath = os.path.join(dataPath,disease)\n",
    "    print(f\"Number of samples for {disease} case: {len(os.listdir(diseasePath))}\")\n",
    "    total += len(os.listdir(diseasePath))\n",
    "print(f\"Total samples: {total}\")"
   ]
  },
  {
   "cell_type": "code",
   "execution_count": 42,
   "id": "ce8cd5ed-dd20-4825-81fc-32512e3f0ec0",
   "metadata": {},
   "outputs": [
    {
     "name": "stderr",
     "output_type": "stream",
     "text": [
      "100%|██████████| 4/4 [00:00<00:00, 617.22it/s]"
     ]
    },
    {
     "name": "stdout",
     "output_type": "stream",
     "text": [
      "CPU times: total: 15.6 ms\n",
      "Wall time: 29.3 ms\n"
     ]
    },
    {
     "name": "stderr",
     "output_type": "stream",
     "text": [
      "\n"
     ]
    },
    {
     "data": {
      "text/html": [
       "<div>\n",
       "<style scoped>\n",
       "    .dataframe tbody tr th:only-of-type {\n",
       "        vertical-align: middle;\n",
       "    }\n",
       "\n",
       "    .dataframe tbody tr th {\n",
       "        vertical-align: top;\n",
       "    }\n",
       "\n",
       "    .dataframe thead th {\n",
       "        text-align: right;\n",
       "    }\n",
       "</style>\n",
       "<table border=\"1\" class=\"dataframe\">\n",
       "  <thead>\n",
       "    <tr style=\"text-align: right;\">\n",
       "      <th></th>\n",
       "      <th>filepath</th>\n",
       "      <th>label</th>\n",
       "    </tr>\n",
       "  </thead>\n",
       "  <tbody>\n",
       "    <tr>\n",
       "      <th>460</th>\n",
       "      <td>_13_3987009.jpg</td>\n",
       "      <td>cataract</td>\n",
       "    </tr>\n",
       "    <tr>\n",
       "      <th>1795</th>\n",
       "      <td>11182_right.jpeg</td>\n",
       "      <td>diabetic_retinopathy</td>\n",
       "    </tr>\n",
       "    <tr>\n",
       "      <th>1070</th>\n",
       "      <td>10046_left.jpeg</td>\n",
       "      <td>diabetic_retinopathy</td>\n",
       "    </tr>\n",
       "    <tr>\n",
       "      <th>1522</th>\n",
       "      <td>1075_left.jpeg</td>\n",
       "      <td>diabetic_retinopathy</td>\n",
       "    </tr>\n",
       "    <tr>\n",
       "      <th>2373</th>\n",
       "      <td>1486_left.jpg</td>\n",
       "      <td>glaucoma</td>\n",
       "    </tr>\n",
       "  </tbody>\n",
       "</table>\n",
       "</div>"
      ],
      "text/plain": [
       "              filepath                 label\n",
       "460    _13_3987009.jpg              cataract\n",
       "1795  11182_right.jpeg  diabetic_retinopathy\n",
       "1070   10046_left.jpeg  diabetic_retinopathy\n",
       "1522    1075_left.jpeg  diabetic_retinopathy\n",
       "2373     1486_left.jpg              glaucoma"
      ]
     },
     "execution_count": 42,
     "metadata": {},
     "output_type": "execute_result"
    }
   ],
   "source": [
    "%%time\n",
    "diseaseMap = {\"filepath\":[],\"label\":[]}\n",
    "\n",
    "for disease in tqdm(os.listdir(dataPath)):\n",
    "    diseasePath = os.path.join(dataPath,disease)\n",
    "\n",
    "    for path in os.listdir(diseasePath):\n",
    "        diseaseMap['filepath'].append(path)\n",
    "        diseaseMap['label'].append(disease)\n",
    "\n",
    "opticDf = pd.DataFrame(diseaseMap).sample(frac=1)\n",
    "opticDf.head()"
   ]
  },
  {
   "cell_type": "code",
   "execution_count": 43,
   "id": "9082a04f-6a05-4fec-866c-130af43087c4",
   "metadata": {},
   "outputs": [],
   "source": [
    "opticDf.to_csv(r\"C:\\Users\\asuto\\Desktop\\Work\\Eye Diseases\\opticDiseasesDataframe.csv\",index=False)"
   ]
  },
  {
   "cell_type": "code",
   "execution_count": null,
   "id": "3804da46-d6e7-4745-a33e-8f337afe31b9",
   "metadata": {},
   "outputs": [],
   "source": []
  },
  {
   "cell_type": "code",
   "execution_count": null,
   "id": "15a9bf07-c4fd-4804-9b07-08c2622770ab",
   "metadata": {},
   "outputs": [],
   "source": []
  },
  {
   "cell_type": "code",
   "execution_count": null,
   "id": "52b11e90-49b1-453d-855a-3728d05e1e1d",
   "metadata": {},
   "outputs": [],
   "source": []
  },
  {
   "cell_type": "code",
   "execution_count": null,
   "id": "e151d8f9-ea45-4f78-92bb-6ac3ca821ea9",
   "metadata": {},
   "outputs": [],
   "source": []
  },
  {
   "cell_type": "code",
   "execution_count": null,
   "id": "494ea51d-4fa4-40c1-8718-023e107dc387",
   "metadata": {},
   "outputs": [],
   "source": []
  },
  {
   "cell_type": "code",
   "execution_count": null,
   "id": "3e0ef89b-967a-4420-96d3-08867af6bb57",
   "metadata": {},
   "outputs": [],
   "source": []
  },
  {
   "cell_type": "code",
   "execution_count": null,
   "id": "02dc2e58-f020-4ab5-a3a6-a25c1e74fcab",
   "metadata": {},
   "outputs": [],
   "source": []
  },
  {
   "cell_type": "code",
   "execution_count": null,
   "id": "43450a7e-488f-4d50-990c-aec361704708",
   "metadata": {},
   "outputs": [],
   "source": []
  },
  {
   "cell_type": "code",
   "execution_count": null,
   "id": "6ef2720d-04ec-4428-a055-2dbec0ae6f3d",
   "metadata": {},
   "outputs": [],
   "source": []
  }
 ],
 "metadata": {
  "kernelspec": {
   "display_name": "Python 3 (ipykernel)",
   "language": "python",
   "name": "python3"
  },
  "language_info": {
   "codemirror_mode": {
    "name": "ipython",
    "version": 3
   },
   "file_extension": ".py",
   "mimetype": "text/x-python",
   "name": "python",
   "nbconvert_exporter": "python",
   "pygments_lexer": "ipython3",
   "version": "3.9.19"
  }
 },
 "nbformat": 4,
 "nbformat_minor": 5
}
